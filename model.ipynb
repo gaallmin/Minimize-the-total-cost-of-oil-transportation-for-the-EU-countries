{
 "cells": [
  {
   "cell_type": "markdown",
   "id": "dNK67rkW5O_a",
   "metadata": {
    "id": "dNK67rkW5O_a"
   },
   "source": [
    "# HW.1\n",
    "## Optimization and Analytics 23/24-S1\n",
    "\n",
    "FELIX GRANDNER, MIN JEGAL\n"
   ]
  },
  {
   "cell_type": "code",
   "execution_count": 1,
   "id": "LqQWFySQBFkl",
   "metadata": {
    "id": "LqQWFySQBFkl"
   },
   "outputs": [],
   "source": [
    "import pandas as pd\n",
    "\n",
    "#from google.colab import drive\n",
    "\n",
    "#drive.mount('/content/drive')\n",
    "#path_to_folder = '/content/drive/My Drive/Colab Notebooks/Optimization/Lab1/'\n"
   ]
  },
  {
   "cell_type": "markdown",
   "id": "TLBkE9DKHr1K",
   "metadata": {
    "id": "TLBkE9DKHr1K"
   },
   "source": [
    "# 1. Introduction\n",
    "Our project is to  'Minimize the total cost of oil transportation for the EU countries'.\n",
    "\n",
    "To conduct our project we crawled the data about popluation from each country and the amount of oil the country has from the wikipedia. $^1)$ <br>\n",
    "The 'distance matrix.csv' is the data about the distance between the countries, 'oil_countries' contains the information of the amount of oil each country has, and the 'eu_countries' is the data of the population of each country. Due to the complexity to get the data of the exact number of the consumption of oil, we modified the data by 'percent of toatl EU-27 area' * 100 and rounded the number.\n",
    "\n",
    "\n",
    "\n",
    "# ------------------ #\n",
    "$^1)$\n",
    "\n",
    "1. https://en.wikipedia.org/wiki/Demographics_of_the_European_Union <br>\n",
    "2. https://en.wikipedia.org/wiki/List_of_countries_by_oil_production"
   ]
  },
  {
   "cell_type": "markdown",
   "id": "W0PRkemp3j2I",
   "metadata": {
    "id": "W0PRkemp3j2I"
   },
   "source": [
    "# I. The First Part\n",
    "The goal of our first model is to determine the optimal distribution of oil imports among EU countries from various oil-producing countries, considering both economic and environmental factors. The model aims to minimize the total cost of transportation, which includes the direct cost associated with the distance of transportation and the environmental impact in terms of carbon emissions. Moreover our model consider variable transportation capacities, reflecting real-world scenarios where transportation resources might fluctuate."
   ]
  },
  {
   "cell_type": "markdown",
   "id": "cf891291",
   "metadata": {},
   "source": [
    "To calculate the distances between the countries we gathered the geocoordinates of each capital city and computed the distance on a globe using the haversine distance function."
   ]
  },
  {
   "cell_type": "code",
   "execution_count": 2,
   "id": "84b19ea3",
   "metadata": {
    "id": "84b19ea3"
   },
   "outputs": [
    {
     "name": "stdout",
     "output_type": "stream",
     "text": [
      "Loaded Data (excluding the first entry in each row):\n",
      "['6709.0', '6164.0', '7217.0', '6089.0', '7178.0', '7977.0', '6191.0', '6217.0', '8254.0', '6899.0', '6636.0', '5735.0', '7336.0', '7124.0', '7912.0', '6511.0', '6930.0', '7174.0', '5443.0', '7233.0', '7270.0', '7122.0', '7075.0', '6963.0', '9113.0', '6386.0', '7721.0']\n",
      "['4168.0', '4681.0', '3673.0', '4960.0', '3751.0', '2877.0', '4658.0', '4624.0', '2621.0', '3955.0', '4448.0', '5421.0', '3513.0', '3722.0', '2928.0', '4418.0', '4286.0', '3674.0', '5398.0', '3607.0', '3773.0', '3719.0', '4017.0', '4223.0', '1731.0', '4454.0', '3312.0']\n",
      "['1610.0', '2486.0', '2375.0', '3439.0', '1150.0', '1498.0', '2146.0', '2252.0', '2231.0', '1667.0', '1227.0', '3906.0', '1568.0', '1670.0', '1777.0', '1560.0', '892.0', '1631.0', '2793.0', '1868.0', '790.0', '1932.0', '840.0', '866.0', '2311.0', '2207.0', '2815.0']\n",
      "['6126.0', '5647.0', '6728.0', '5690.0', '6576.0', '7411.0', '5631.0', '5674.0', '7745.0', '6333.0', '5993.0', '5384.0', '6774.0', '6566.0', '7370.0', '5905.0', '6270.0', '6614.0', '4899.0', '6697.0', '6641.0', '6589.0', '6435.0', '6307.0', '8574.0', '5850.0', '7276.0']\n",
      "['3261.0', '3859.0', '2946.0', '4294.0', '2812.0', '1998.0', '3781.0', '3768.0', '1931.0', '3071.0', '3477.0', '4783.0', '2640.0', '2854.0', '2110.0', '3483.0', '3302.0', '2802.0', '4534.0', '2781.0', '2803.0', '2897.0', '3042.0', '3241.0', '1033.0', '3610.0', '2738.0']\n",
      "['4635.0', '5240.0', '4297.0', '5623.0', '4173.0', '3381.0', '5162.0', '5151.0', '3256.0', '4453.0', '4790.0', '6099.0', '4023.0', '4237.0', '3486.0', '4843.0', '4569.0', '4185.0', '5916.0', '4161.0', '4124.0', '4276.0', '4348.0', '4517.0', '2342.0', '4993.0', '4004.0']\n",
      "['3507.0', '4211.0', '3412.0', '4775.0', '3013.0', '2350.0', '4064.0', '4081.0', '2467.0', '3364.0', '3560.0', '5275.0', '2965.0', '3178.0', '2529.0', '3671.0', '3314.0', '3124.0', '4818.0', '3159.0', '2910.0', '3275.0', '3117.0', '3266.0', '1634.0', '3941.0', '3308.0']\n",
      "['838.0', '1341.0', '2006.0', '2387.0', '1062.0', '2003.0', '912.0', '1085.0', '2606.0', '1117.0', '416.0', '2738.0', '1481.0', '1351.0', '2096.0', '483.0', '786.0', '1370.0', '1264.0', '1605.0', '1044.0', '1561.0', '843.0', '786.0', '3197.0', '1182.0', '2684.0']\n",
      "['9590.0', '8725.0', '8906.0', '7739.0', '10027.0', '10016.0', '9115.0', '8978.0', '9552.0', '9510.0', '10225.0', '7280.0', '9665.0', '9526.0', '9734.0', '9735.0', '10612.0', '9571.0', '8653.0', '9368.0', '10397.0', '9283.0', '10428.0', '10571.0', '10246.0', '8990.0', '8716.0']\n",
      "['3817.0', '4405.0', '3464.0', '4798.0', '3368.0', '2551.0', '4336.0', '4320.0', '2428.0', '3626.0', '4022.0', '5278.0', '3193.0', '3407.0', '2650.0', '4039.0', '3833.0', '3355.0', '5088.0', '3325.0', '3349.0', '3441.0', '3585.0', '3774.0', '1514.0', '4160.0', '3199.0']\n",
      "['3883.0', '4759.0', '4497.0', '5685.0', '3407.0', '3410.0', '4415.0', '4526.0', '3969.0', '3921.0', '3403.0', '6165.0', '3736.0', '3882.0', '3701.0', '3815.0', '3012.0', '3836.0', '5026.0', '4032.0', '3063.0', '4118.0', '3090.0', '3025.0', '3505.0', '4478.0', '4756.0']\n",
      "['9725.0', '9195.0', '10240.0', '9063.0', '10179.0', '11002.0', '9216.0', '9247.0', '11282.0', '9923.0', '9584.0', '8670.0', '10362.0', '10151.0', '10943.0', '9509.0', '9842.0', '10201.0', '8472.0', '10264.0', '10240.0', '10153.0', '10027.0', '9885.0', '12144.0', '9417.0', '10718.0']\n",
      "['1927.0', '1345.0', '991.0', '712.0', '2219.0', '2114.0', '1740.0', '1568.0', '1828.0', '1737.0', '2730.0', '1094.0', '1772.0', '1670.0', '1848.0', '2220.0', '3029.0', '1705.0', '1978.0', '1470.0', '2611.0', '1402.0', '2731.0', '2961.0', '2721.0', '1448.0', '1029.0']\n",
      "['4390.0', '4971.0', '4012.0', '5332.0', '3939.0', '3123.0', '4908.0', '4891.0', '2967.0', '4199.0', '4582.0', '5805.0', '3765.0', '3978.0', '3214.0', '4610.0', '4380.0', '3927.0', '5660.0', '3892.0', '3911.0', '4007.0', '4142.0', '4324.0', '2055.0', '4729.0', '3707.0']\n",
      "['4861.0', '4450.0', '3684.0', '3656.0', '4955.0', '4323.0', '4821.0', '4654.0', '3604.0', '4606.0', '5660.0', '3691.0', '4411.0', '4431.0', '4046.0', '5202.0', '5866.0', '4439.0', '5075.0', '4165.0', '5312.0', '4167.0', '5515.0', '5786.0', '3917.0', '4510.0', '3067.0']\n"
     ]
    }
   ],
   "source": [
    "import csv\n",
    "\n",
    "# Initialize an empty list to store the data\n",
    "data = []\n",
    "\n",
    "# Specify the path to the CSV file\n",
    "csv_file = 'distances_matrix.csv'\n",
    "\n",
    "\n",
    "# Read the data from the CSV file and exclude the first entry in each row\n",
    "try:\n",
    "    with open(csv_file, 'r', newline='', encoding='iso-8859-1') as csvfile:\n",
    "        reader = csv.reader(csvfile)\n",
    "        header = next(reader)  # Read the header row (if it exists)\n",
    "\n",
    "        for row in reader:\n",
    "            # Exclude the first entry in each row using slicing [1:]\n",
    "            data.append(row[1:])\n",
    "\n",
    "    # Print the loaded data\n",
    "    print(\"Loaded Data (excluding the first entry in each row):\")\n",
    "    for row in data:\n",
    "        print(row)\n",
    "except UnicodeDecodeError as e:\n",
    "    print(f\"UnicodeDecodeError: {e}\")\n",
    "except FileNotFoundError as e:\n",
    "    print(f\"File not found: {e}\")\n",
    "except Exception as e:\n",
    "    print(f\"An error occurred: {e}\")\n"
   ]
  },
  {
   "cell_type": "markdown",
   "id": "sxNqMDKe2zrC",
   "metadata": {
    "id": "sxNqMDKe2zrC"
   },
   "source": [
    "Thus according to the goal we set, we could define the model as the follwoing"
   ]
  },
  {
   "cell_type": "markdown",
   "id": "HEqFbpoKjXw5",
   "metadata": {
    "id": "HEqFbpoKjXw5"
   },
   "source": [
    "\n",
    "### Optimization Model : EU oil import problem, considering Ecological Factor\n",
    "\n",
    "#### Sets:\n",
    "- $I$: Set of oil-producing countries.\n",
    "- $J$: Set of EU countries.\n",
    "\n",
    "#### Parameters:\n",
    "- $\\text{Cap}_i$: Oil production capacity for country $i \\in I$.\n",
    "- $\\text{Dem}_j$: Oil demand for EU country $j \\in J$.\n",
    "- $\\text{Distance}_{i,j}$: Distance between oil-producing country $i$ and EU country $j$.\n",
    "- $\\text{carbon emission coefficient}$: Coefficient for carbon emissions that describes the rate at which a given activity releases greenhouse gases (GHGs) into the atmosphere.\n",
    "\n",
    "#### Variables:\n",
    "- $x_{i,j}$: Quantity of oil transported from country $i$ to country $j$.\n",
    "- $\\text{TransCap}_i$: Variable transportation capacities for country $i$.\n",
    "\n",
    "#### Objective Function:\n",
    "Minimize the total cost of transportation and environmental impact.\n",
    "$$ \\min \\sum_{i \\in I, j \\in J} (0.01 \\times \\text{Distance}_{i,j} \\times x_{i,j} + \\text{carbon_emission_coefficient} \\times \\text{Distance}_{i,j} \\times x_{i,j}) $$\n",
    "\n",
    "#### Constraints:\n",
    "##### Capacity Constraint:\n",
    "We simulate a embargo on russian oil by setting the capacity to 300.\n",
    "For non-Russian countries:\n",
    "$$ \\sum_{j \\in J} x_{i,j} \\leq \\text{Cap}_i \\, \\forall i \\in I \\setminus \\{\\text{\"Russia\"}\\} $$\n",
    "For Russia:\n",
    "$$ \\sum_{j \\in J} x_{\\text{\"Russia\"},j} \\leq 300 $$\n",
    "\n",
    "##### Demand Constraint:\n",
    "$$ \\sum_{i \\in I} x_{i,j} \\geq \\text{Dem}_j \\, \\forall j \\in J $$\n",
    "\n",
    "##### Variable Capacity Adjustment:\n",
    "$$ \\text{TransCap}_i = 0.75 \\times \\text{Cap}_i \\, \\forall i \\in I $$\n"
   ]
  },
  {
   "cell_type": "code",
   "execution_count": 3,
   "id": "r0jZze8Tr42S",
   "metadata": {
    "id": "r0jZze8Tr42S"
   },
   "outputs": [],
   "source": [
    "#pip install Pyomo"
   ]
  },
  {
   "cell_type": "code",
   "execution_count": 4,
   "id": "4c12b41b",
   "metadata": {
    "id": "4c12b41b"
   },
   "outputs": [],
   "source": [
    "from pyomo.environ import *\n",
    "from pyomo.opt import SolverFactory\n",
    "\n",
    "import csv\n",
    "\n",
    "model = ConcreteModel('EU oil import problem')\n",
    "\n",
    "\n",
    "oil_countries = {\n",
    "    \"United States\": 6000,\n",
    "    \"Saudi Arabia\": 5300,\n",
    "    \"Russia\": 5100,\n",
    "    \"Canada\": 2200,\n",
    "    \"Iraq\": 2200,\n",
    "    \"United Arab Emirates\": 1700,\n",
    "    \"Iran\": 1600,\n",
    "    \"Norway\": 1500,\n",
    "    \"Brazil\": 1500,\n",
    "    \"Kuwait\": 1400,\n",
    "    \"Kazakhstan\": 1300,\n",
    "    \"Mexico\": 900,\n",
    "    \"Algeria\": 700,\n",
    "    \"Qatar\": 600,\n",
    "    \"Nigeria\": 600\n",
    "}\n",
    "\n",
    "for country, value in oil_countries.items():\n",
    "    oil_countries[country] = 3*value/4\n",
    "\n",
    "\n",
    "eu_countries = {\n",
    "    \"Germany\": 840,\n",
    "    \"France\": 680,\n",
    "    \"Italy\": 600,\n",
    "    \"Spain\": 470,\n",
    "    \"Poland\": 380,\n",
    "    \"Romania\": 190,\n",
    "    \"Netherlands\": 180,\n",
    "    \"Belgium\": 115,\n",
    "    \"Greece\": 110,\n",
    "    \"Czech Republic\": 110,\n",
    "    \"Sweden\": 105,\n",
    "    \"Portugal\": 103,\n",
    "    \"Hungary\": 98,\n",
    "    \"Austria\": 89,\n",
    "    \"Bulgaria\": 70,\n",
    "    \"Denmark\": 58,\n",
    "    \"Finland\": 56,\n",
    "    \"Slovakia\": 55,\n",
    "    \"Ireland\": 49,\n",
    "    \"Croatia\": 40,\n",
    "    \"Lithuania\": 28,\n",
    "    \"Slovenia\": 21,\n",
    "    \"Latvia\": 19,\n",
    "    \"Estonia\": 13,\n",
    "    \"Cyprus\": 10,\n",
    "    \"Luxembourg\": 6,\n",
    "    \"Malta\": 5\n",
    "}\n",
    "\n",
    "model.i = Set(initialize=oil_countries.keys(), doc='oil producing countries')\n",
    "model.j = Set(initialize=eu_countries.keys(), doc='eu countries')\n",
    "\n",
    "model.Cap = Param(model.i, initialize=oil_countries, doc='oil capacity')\n",
    "model.Dem = Param(model.j, initialize=eu_countries, doc='oil demand')\n",
    "\n",
    "distance_data = {}\n",
    "for i, origin in enumerate(model.i):\n",
    "    for j, destination in enumerate(model.j):\n",
    "        distance_data[(origin, destination)] = int(round(float(data[i][j])))\n",
    "\n",
    "carbon_emission_coefficient = 0.005\n",
    "model.Distance = Param(model.i, model.j, initialize=distance_data, doc='Distance in km')\n",
    "model.TransCap = Var(model.i, within=NonNegativeReals, doc='Variable transportation capacities')\n",
    "\n"
   ]
  },
  {
   "cell_type": "code",
   "execution_count": 5,
   "id": "2be063d6",
   "metadata": {
    "id": "2be063d6"
   },
   "outputs": [],
   "source": [
    "model.x = Var(model.i, model.j, doc=\"oil bought transported\", within=NonNegativeReals)\n",
    "\n",
    "def objective_rule(model):\n",
    "  transport_cost = sum(0.01*model.Distance[i, j]*model.x[i, j] for i in model.i for j in model.j)\n",
    "  environmental_impact = sum(carbon_emission_coefficient * model.Distance[i, j] * model.x[i, j] for i in model.i for j in model.j)\n",
    "  return transport_cost + environmental_impact\n",
    "\n",
    "model.objective = Objective(rule=objective_rule, sense=minimize, doc=\"oil cost\")\n",
    "\n",
    "def Capacity(model, i):\n",
    "    if(i == \"Russia\"):\n",
    "        return sum(model.x[i,j] for j in model.j) <= 300\n",
    "    else:\n",
    "        return sum(model.x[i,j] for j in model.j) <= model.Cap[i]\n",
    "\n",
    "model.Capacity = Constraint(model.i, rule=Capacity, doc=\"capacity at oil country + Russia sanctions\")\n",
    "\n",
    "def Demand(model, j):\n",
    "    return sum(model.x[i,j] for i in model.i) >= model.Dem[j]\n",
    "\n",
    "model.Demand = Constraint(model.j, rule=Demand, doc=\"consumption in eu country\")\n",
    "\n",
    "\n",
    "for country in model.i:\n",
    "    model.TransCap[country] = 0.75 * model.Cap[country]\n"
   ]
  },
  {
   "cell_type": "markdown",
   "id": "YXx2mBOu7zo2",
   "metadata": {
    "id": "YXx2mBOu7zo2"
   },
   "source": [
    "The problem is structured as a linear optimization problem, with an aim to minimize costs subject to various linear constraints (like capacity and demand constraints), we used 'glpk' as a solver"
   ]
  },
  {
   "cell_type": "code",
   "execution_count": 6,
   "id": "mx4Su_TjDIbH",
   "metadata": {
    "colab": {
     "background_save": true
    },
    "id": "mx4Su_TjDIbH",
    "outputId": "550f6f96-9eba-4fb6-e477-938c6d387eca"
   },
   "outputs": [],
   "source": [
    "#!apt-get install -y -qq glpk-utils"
   ]
  },
  {
   "cell_type": "code",
   "execution_count": 7,
   "id": "94379d4b",
   "metadata": {},
   "outputs": [],
   "source": [
    "model.dual = Suffix(direction=Suffix.IMPORT)\n"
   ]
  },
  {
   "cell_type": "code",
   "execution_count": 8,
   "id": "b7420212",
   "metadata": {
    "colab": {
     "background_save": true
    },
    "id": "b5f5a578",
    "outputId": "02ef681e-733a-4fc9-8093-dd064ae923c8"
   },
   "outputs": [
    {
     "name": "stdout",
     "output_type": "stream",
     "text": [
      "                      Germany  France  Italy  Spain  Poland  Romania  \\\n",
      "United States             0.0     0.0    0.0    0.0     0.0      0.0   \n",
      "Saudi Arabia              0.0     0.0    0.0    0.0     0.0      0.0   \n",
      "Russia                  177.0     0.0    0.0    0.0     0.0      0.0   \n",
      "Canada                    0.0     0.0    0.0    0.0     0.0      0.0   \n",
      "Iraq                    246.0     0.0  600.0    0.0     0.0    190.0   \n",
      "United Arab Emirates      0.0     0.0    0.0    0.0     0.0      0.0   \n",
      "Iran                    417.0     0.0    0.0    0.0   380.0      0.0   \n",
      "Norway                    0.0   625.0    0.0    0.0     0.0      0.0   \n",
      "Brazil                    0.0     0.0    0.0    0.0     0.0      0.0   \n",
      "Kuwait                    0.0     0.0    0.0    0.0     0.0      0.0   \n",
      "Kazakhstan                0.0     0.0    0.0    0.0     0.0      0.0   \n",
      "Mexico                    0.0     0.0    0.0    0.0     0.0      0.0   \n",
      "Algeria                   0.0    55.0    0.0  470.0     0.0      0.0   \n",
      "Qatar                     0.0     0.0    0.0    0.0     0.0      0.0   \n",
      "Nigeria                   0.0     0.0    0.0    0.0     0.0      0.0   \n",
      "\n",
      "                      Netherlands  Belgium  Greece  Czech Republic  ...  \\\n",
      "United States                 0.0      0.0     0.0             0.0  ...   \n",
      "Saudi Arabia                  0.0      0.0     0.0             0.0  ...   \n",
      "Russia                        0.0      0.0     0.0             0.0  ...   \n",
      "Canada                        0.0      0.0     0.0             0.0  ...   \n",
      "Iraq                          0.0      0.0   110.0           110.0  ...   \n",
      "United Arab Emirates          0.0      0.0     0.0             0.0  ...   \n",
      "Iran                          0.0      0.0     0.0             0.0  ...   \n",
      "Norway                      180.0    115.0     0.0             0.0  ...   \n",
      "Brazil                        0.0      0.0     0.0             0.0  ...   \n",
      "Kuwait                        0.0      0.0     0.0             0.0  ...   \n",
      "Kazakhstan                    0.0      0.0     0.0             0.0  ...   \n",
      "Mexico                        0.0      0.0     0.0             0.0  ...   \n",
      "Algeria                       0.0      0.0     0.0             0.0  ...   \n",
      "Qatar                         0.0      0.0     0.0             0.0  ...   \n",
      "Nigeria                       0.0      0.0     0.0             0.0  ...   \n",
      "\n",
      "                      Slovakia  Ireland  Croatia  Lithuania  Slovenia  Latvia  \\\n",
      "United States              0.0      0.0      0.0        0.0       0.0     0.0   \n",
      "Saudi Arabia               0.0      0.0      0.0        0.0       0.0     0.0   \n",
      "Russia                     0.0      0.0      0.0       28.0       0.0    19.0   \n",
      "Canada                     0.0      0.0      0.0        0.0       0.0     0.0   \n",
      "Iraq                      55.0      0.0     40.0        0.0      21.0     0.0   \n",
      "United Arab Emirates       0.0      0.0      0.0        0.0       0.0     0.0   \n",
      "Iran                       0.0      0.0      0.0        0.0       0.0     0.0   \n",
      "Norway                     0.0     49.0      0.0        0.0       0.0     0.0   \n",
      "Brazil                     0.0      0.0      0.0        0.0       0.0     0.0   \n",
      "Kuwait                     0.0      0.0      0.0        0.0       0.0     0.0   \n",
      "Kazakhstan                 0.0      0.0      0.0        0.0       0.0     0.0   \n",
      "Mexico                     0.0      0.0      0.0        0.0       0.0     0.0   \n",
      "Algeria                    0.0      0.0      0.0        0.0       0.0     0.0   \n",
      "Qatar                      0.0      0.0      0.0        0.0       0.0     0.0   \n",
      "Nigeria                    0.0      0.0      0.0        0.0       0.0     0.0   \n",
      "\n",
      "                      Estonia  Cyprus  Luxembourg  Malta  \n",
      "United States             0.0     0.0         0.0    0.0  \n",
      "Saudi Arabia              0.0     0.0         0.0    0.0  \n",
      "Russia                   13.0     0.0         0.0    0.0  \n",
      "Canada                    0.0     0.0         0.0    0.0  \n",
      "Iraq                      0.0    10.0         6.0    5.0  \n",
      "United Arab Emirates      0.0     0.0         0.0    0.0  \n",
      "Iran                      0.0     0.0         0.0    0.0  \n",
      "Norway                    0.0     0.0         0.0    0.0  \n",
      "Brazil                    0.0     0.0         0.0    0.0  \n",
      "Kuwait                    0.0     0.0         0.0    0.0  \n",
      "Kazakhstan                0.0     0.0         0.0    0.0  \n",
      "Mexico                    0.0     0.0         0.0    0.0  \n",
      "Algeria                   0.0     0.0         0.0    0.0  \n",
      "Qatar                     0.0     0.0         0.0    0.0  \n",
      "Nigeria                   0.0     0.0         0.0    0.0  \n",
      "\n",
      "[15 rows x 27 columns]\n"
     ]
    },
    {
     "data": {
      "text/plain": [
       "143680.695"
      ]
     },
     "execution_count": 8,
     "metadata": {},
     "output_type": "execute_result"
    }
   ],
   "source": [
    "Solver = SolverFactory('glpk')\n",
    "Results = Solver.solve(model)\n",
    "\n",
    "# Display solution\n",
    "#display(model)\n",
    "\n",
    "import pandas as pd\n",
    "\n",
    "table_results = pd.DataFrame()\n",
    "\n",
    "for i in model.i:\n",
    "    for j in model.j:\n",
    "        table_results.loc[i,j] = model.x[i,j]()\n",
    "\n",
    "# Save pandas tabel into excel file.\n",
    "\n",
    "\n",
    "print(table_results)\n",
    "model.objective()"
   ]
  },
  {
   "cell_type": "markdown",
   "id": "a074df92",
   "metadata": {},
   "source": [
    "### Optimized solution\n",
    "\n",
    "In the table above we see the optimized solution for every EU state"
   ]
  },
  {
   "cell_type": "code",
   "execution_count": 9,
   "id": "0LtLFYad0KXQ",
   "metadata": {
    "colab": {
     "background_save": true
    },
    "id": "0LtLFYad0KXQ",
    "outputId": "7b6b3214-b0a1-4c46-be24-29231d8b56d6"
   },
   "outputs": [
    {
     "name": "stdout",
     "output_type": "stream",
     "text": [
      "dual : Direction=Suffix.IMPORT, Datatype=Suffix.FLOAT\n",
      "    Key                            : Value\n",
      "                 Capacity[Algeria] :            -40.56\n",
      "                  Capacity[Brazil] :               0.0\n",
      "                  Capacity[Canada] :               0.0\n",
      "                    Capacity[Iran] :               0.0\n",
      "                    Capacity[Iraq] : -3.69000000000001\n",
      "              Capacity[Kazakhstan] :               0.0\n",
      "                  Capacity[Kuwait] :               0.0\n",
      "                  Capacity[Mexico] :               0.0\n",
      "                 Capacity[Nigeria] :               0.0\n",
      "                  Capacity[Norway] :            -40.62\n",
      "                   Capacity[Qatar] :               0.0\n",
      "                  Capacity[Russia] :           -28.455\n",
      "            Capacity[Saudi Arabia] :               0.0\n",
      "    Capacity[United Arab Emirates] :               0.0\n",
      "           Capacity[United States] :               0.0\n",
      "                   Demand[Austria] :              46.5\n",
      "                   Demand[Belgium] :            56.895\n",
      "                  Demand[Bulgaria] :             35.34\n",
      "                   Demand[Croatia] :            45.405\n",
      "                    Demand[Cyprus] :            19.185\n",
      "            Demand[Czech Republic] :            49.755\n",
      "                   Demand[Denmark] :            47.865\n",
      "                   Demand[Estonia] :            41.445\n",
      "                   Demand[Finland] :            41.835\n",
      "                    Demand[France] :            60.735\n",
      "                   Demand[Germany] :            52.605\n",
      "                    Demand[Greece] :            32.655\n",
      "                   Demand[Hungary] :             43.29\n",
      "                   Demand[Ireland] :             59.58\n",
      "                     Demand[Italy] :             47.88\n",
      "                    Demand[Latvia] :            41.055\n",
      "                 Demand[Lithuania] :            40.305\n",
      "                Demand[Luxembourg] :             57.84\n",
      "                     Demand[Malta] :             44.76\n",
      "               Demand[Netherlands] :              54.3\n",
      "                    Demand[Poland] :            45.195\n",
      "                  Demand[Portugal] :            55.365\n",
      "                   Demand[Romania] :             33.66\n",
      "                  Demand[Slovakia] :             45.72\n",
      "                  Demand[Slovenia] :            47.145\n",
      "                     Demand[Spain] :             51.24\n",
      "                    Demand[Sweden] :             46.86\n"
     ]
    }
   ],
   "source": [
    "# to include marginal prices\n",
    "model.dual.display()\n"
   ]
  },
  {
   "cell_type": "markdown",
   "id": "5d677c92",
   "metadata": {},
   "source": [
    "### Lagrange multipliers\n",
    "\n",
    "The table above provides the exact lagrange multpliers for every constraint of our problem. We can observe that the most expensive demand at this moment is France. Adding 1 unit in the demand of France would result in a final solution increase of 60.735.\n",
    "The same can be said for the capacities. Most capacities do not contribute to the optimal solution but adding 1 unit capacity in Norway or Algeria results in a change of around -40.5 in the optimal solution, which seems plausible because the are two of the nearest providers of oil which results in a low cost for the EU in our model."
   ]
  },
  {
   "cell_type": "markdown",
   "id": "7lrF6T9A5ztE",
   "metadata": {
    "id": "7lrF6T9A5ztE"
   },
   "source": [
    "# II. The Second Part\n",
    "\n",
    "The objective of the model is to enhance the distribution of oil imports among EU countries with an emphasis on various constraints. This entails not only optimizing economic factors, such as minimizing transportation costs, but also adhering to geopolitical and logistical limitations, including production capacities and diversification requirements. Additional considerations, such as transatlantic trade specifics, are also taken into account. A proposed solution involves the construction of a new pipeline at a cost of 8000€, which has the potential to significantly reduce transportation costs for transatlantic nations. The optimization process will assess whether the investment in the pipeline is justified. As part of our strategy, we have implemented a policy that mandates each EU country to source oil from at least 5 different countries. To add a layer of decision-making complexity mirroring real-world choices in international trade and supply chain management, binary variables will be employed. Furthermore, a diversification policy for EU countries has been implemented through constraints that stipulate the importation of oil from a minimum number of different sources. This comprehensive approach aims to ensure a well-balanced and strategic distribution of oil imports within the specified constraints."
   ]
  },
  {
   "cell_type": "markdown",
   "id": "qMQCKPCq6OkG",
   "metadata": {
    "id": "qMQCKPCq6OkG"
   },
   "source": [
    "Thus according to the goal we set, we can define our model as following.\n",
    "However this model can be a non-linear problem but for the consistency of using the same solver, we introduced the new auxiliary variable $z_i,_j$ and the linearization constranints."
   ]
  },
  {
   "cell_type": "markdown",
   "id": "mgM-16086Vr9",
   "metadata": {
    "id": "mgM-16086Vr9"
   },
   "source": [
    "### Updated Optimization Model - EU Oil Import Problem, considering Political Factors\n",
    "\n",
    "#### Sets:\n",
    "- $I$: Set of oil-producing countries.\n",
    "- $J$: Set of EU countries.\n",
    "\n",
    "#### Parameters:\n",
    "- $\\text{Cap}_i$: Oil production capacity for country $i \\in I$.\n",
    "- $\\text{Dem}_j$: Oil demand for EU country $j \\in J$.\n",
    "- $\\text{Distance}_{i,j}$: Distance between oil-producing country $i$ and EU country $j$.\n",
    "\n",
    "#### Variables:\n",
    "- $x2_{i,j}$: Quantity of oil transported from country $i$ to country $j$.\n",
    "- $y$: Binary variable for a specific condition in the objective function.\n",
    "- $y2_{i,j}$: Binary variable for diversification constraints.\n",
    "- $z_{i,j}$: Auxiliary variable representing the linearized product of $x2_{i,j}$ and $y$.\n",
    "\n",
    "#### Objective Function:\n",
    "Minimize the total transportation cost and an additional cost factor, considering linearization of the product term:\n",
    "$$ \\min \\sum_{i \\in I, j \\in J} 0.01 \\times \\text{Distance}_{i,j} \\times x2_{i,j} + 8000 \\times y - 0.005 \\times \\sum_{i \\in \\text{transatlantic}, j \\in J} \\text{Distance}_{i,j} \\times z_{i,j} $$\n",
    "\n",
    "#### Constraints:\n",
    "- **Capacity Constraint:**\n",
    "  - For Russia: $\\sum_{j \\in J} x2_{\\text{\"Russia\"},j} \\leq 300$\n",
    "  - For other countries: $\\sum_{j \\in J} x2_{i,j} \\leq \\text{Cap}_i \\, \\forall i \\in I$\n",
    "- **Demand Constraint:**\n",
    "  - $\\sum_{i \\in I} x2_{i,j} \\geq \\text{Dem}_j \\, \\forall j \\in J$\n",
    "- **Diversification Constraint:**\n",
    "  - $\\sum_{i \\in I} y2_{i,j} \\geq 5 \\, \\forall j \\in J$\n",
    "- **Minimum Usage Constraint:**\n",
    "  - $x2_{i,j} \\geq 0.1 \\times \\text{Dem}_j \\times y2_{i,j} \\, \\forall i \\in I, j \\in J$\n",
    "- **Binary Constraints:**\n",
    "  - $x2_{i, j} \\leq y2_{i, j} \\times 10000$\n",
    "  - $x2_{i, j} \\geq y2_{i, j} / 10000$\n",
    "- **Linearization Constraints:**\n",
    "  - $z_{i, j} \\leq x2_{i, j}$\n",
    "  - $z_{i, j} \\leq 10000 \\times y$\n",
    "  - $z_{i, j} \\geq x2_{i, j} - 10000 \\times (1 - y)$\n"
   ]
  },
  {
   "cell_type": "code",
   "execution_count": 10,
   "id": "5952e37e",
   "metadata": {
    "colab": {
     "background_save": true
    },
    "id": "5952e37e"
   },
   "outputs": [],
   "source": [
    "from pyomo.environ import *\n",
    "from pyomo.opt import SolverFactory\n",
    "\n",
    "import csv\n",
    "\n",
    "model = ConcreteModel('EU oil import problem part2')\n",
    "\n",
    "\n",
    "oil_countries = {\n",
    "    \"United States\": 6000,\n",
    "    \"Saudi Arabia\": 5300,\n",
    "    \"Russia\": 5100,\n",
    "    \"Canada\": 2200,\n",
    "    \"Iraq\": 2200,\n",
    "    \"United Arab Emirates\": 1700,\n",
    "    \"Iran\": 1600,\n",
    "    \"Norway\": 1500,\n",
    "    \"Brazil\": 1500,\n",
    "    \"Kuwait\": 1400,\n",
    "    \"Kazakhstan\": 1300,\n",
    "    \"Mexico\": 900,\n",
    "    \"Algeria\": 700,\n",
    "    \"Qatar\": 600,\n",
    "    \"Nigeria\": 600\n",
    "}\n",
    "\n",
    "for country, value in oil_countries.items():\n",
    "    oil_countries[country] = 3*value/4\n",
    "\n",
    "\n",
    "eu_countries = {\n",
    "    \"Germany\": 840,\n",
    "    \"France\": 680,\n",
    "    \"Italy\": 600,\n",
    "    \"Spain\": 470,\n",
    "    \"Poland\": 380,\n",
    "    \"Romania\": 190,\n",
    "    \"Netherlands\": 180,\n",
    "    \"Belgium\": 115,\n",
    "    \"Greece\": 110,\n",
    "    \"Czech Republic\": 110,\n",
    "    \"Sweden\": 105,\n",
    "    \"Portugal\": 103,\n",
    "    \"Hungary\": 98,\n",
    "    \"Austria\": 89,\n",
    "    \"Bulgaria\": 70,\n",
    "    \"Denmark\": 58,\n",
    "    \"Finland\": 56,\n",
    "    \"Slovakia\": 55,\n",
    "    \"Ireland\": 49,\n",
    "    \"Croatia\": 40,\n",
    "    \"Lithuania\": 28,\n",
    "    \"Slovenia\": 21,\n",
    "    \"Latvia\": 19,\n",
    "    \"Estonia\": 13,\n",
    "    \"Cyprus\": 10,\n",
    "    \"Luxembourg\": 6,\n",
    "    \"Malta\": 5\n",
    "}\n",
    "\n",
    "model.i = Set(initialize=oil_countries.keys(), doc='oil producing countries')\n",
    "model.j = Set(initialize=eu_countries.keys(), doc='eu countries')\n",
    "\n",
    "model.Cap = Param(model.i, initialize=oil_countries, doc='oil capacity' )\n",
    "model.Dem = Param(model.j, initialize=eu_countries, doc='oil demand')\n",
    "\n",
    "distance_data = {}\n",
    "for i, origin in enumerate(model.i):\n",
    "    for j, destination in enumerate(model.j):\n",
    "        distance_data[(origin, destination)] = int(round(float(data[i][j])))\n",
    "\n",
    "\n",
    "model.Distance = Param(model.i, model.j, initialize=distance_data, doc='Distance in km')\n"
   ]
  },
  {
   "cell_type": "code",
   "execution_count": 11,
   "id": "8a5aab9e",
   "metadata": {
    "colab": {
     "background_save": true
    },
    "id": "8a5aab9e"
   },
   "outputs": [],
   "source": [
    "model.x2 = Var(model.i, model.j, doc=\"oil bought transported\", within=NonNegativeReals)\n",
    "model.y = Var(domain=Binary)\n",
    "model.y2 = Var(model.i, model.j, domain=Binary)\n",
    "\n",
    "\n",
    "###---------#### for non linearlity\n",
    "model.z = Var(model.i, model.j, within=NonNegativeReals)\n",
    "\n",
    "def objective_rule(model):\n",
    "    transatlantic = [\"United States\", \"Canada\", \"Mexico\", \"Brazil\"]\n",
    "\n",
    "    # First linear part: sum of transportation costs\n",
    "    transportation_costs = sum(0.01 * model.Distance[i, j] * model.x2[i, j]\n",
    "                               for i in model.i for j in model.j)\n",
    "\n",
    "    # Second linear part: modified term with auxiliary variable\n",
    "    modified_term = sum(model.Distance[i, j] * model.z[i, j]\n",
    "                        for i in transatlantic for j in model.j)\n",
    "\n",
    "    return transportation_costs + 8000 * model.y - 0.005 * modified_term\n",
    "\n",
    "\n",
    "model.objective = Objective(rule=objective_rule, sense=minimize)\n",
    "\n",
    "\n",
    "def Capacity(model, i):\n",
    "    if(i == \"Russia\"):\n",
    "        return sum(model.x2[i,j] for j in model.j) <= 300\n",
    "    else:\n",
    "        return sum(model.x2[i,j] for j in model.j) <= model.Cap[i]\n",
    "\n",
    "model.Capacity = Constraint(model.i, rule=Capacity, doc=\"capacity at oil country\")\n",
    "\n",
    "def Demand(model, j):\n",
    "    return sum(model.x2[i,j] for i in model.i) >= model.Dem[j]\n",
    "model.Demand = Constraint(model.j, rule=Demand, doc=\"consumption in eu country\")\n",
    "\n",
    "\n",
    "def Diversify(model, j):\n",
    "    return sum(model.y2[i,j] for i in model.i) >= 5 #  each EU country gets oil from at least 5 different countries\n",
    "model.Diversify = Constraint(model.j, rule=Diversify, doc=\"diversify constraint\")\n",
    "\n",
    "def Diversify2(model, i, j):\n",
    "    return model.x2[i,j] >= 0.1*model.Dem[j]*model.y2[i,j]\n",
    "model.Diversify2 = Constraint(model.i, model.j, rule=Diversify2, doc=\"minimum usage\")\n",
    "\n",
    "\n",
    "def BinaryDefinition(model, i, j):\n",
    "    return model.x2[i, j] <= model.y2[i, j] * 10000\n",
    "model.Binary = Constraint(model.i, model.j, rule=BinaryDefinition, doc=\"binary constraint (1)\")\n",
    "\n",
    "def BinaryDefinition2(model, i, j):\n",
    "    return model.x2[i, j] >= model.y2[i, j] / 10000\n",
    "model.Binary2 = Constraint(model.i, model.j, rule=BinaryDefinition2, doc=\"binary constraint (2)\")\n",
    "\n",
    "###---------#### for non linearlity\n",
    "def linearization_constraint1(model, i, j):\n",
    "    return model.z[i, j] <= model.x2[i, j]\n",
    "\n",
    "def linearization_constraint2(model, i, j):\n",
    "    return model.z[i, j] <= 10000 * model.y\n",
    "\n",
    "def linearization_constraint3(model, i, j):\n",
    "    return model.z[i, j] >= model.x2[i, j] - 10000 * (1 - model.y)\n",
    "\n",
    "model.Linearization1 = Constraint(model.i, model.j, rule=linearization_constraint1)\n",
    "model.Linearization2 = Constraint(model.i, model.j, rule=linearization_constraint2)\n",
    "model.Linearization3 = Constraint(model.i, model.j, rule=linearization_constraint3)\n",
    "\n",
    "\n"
   ]
  },
  {
   "cell_type": "code",
   "execution_count": 12,
   "id": "d7ea07de",
   "metadata": {
    "colab": {
     "background_save": true
    },
    "id": "d7ea07de",
    "outputId": "bec1b7cc-27ad-4413-cd55-d62a63410d9a"
   },
   "outputs": [
    {
     "name": "stdout",
     "output_type": "stream",
     "text": [
      "                      Germany  France  Italy  Spain  Poland  Romania  \\\n",
      "United States            84.0    68.0    0.0   47.0     0.0      0.0   \n",
      "Saudi Arabia              0.0     0.0    0.0    0.0     0.0     19.0   \n",
      "Russia                   84.0     0.0    0.0    0.0   122.9      0.0   \n",
      "Canada                   84.0   408.0   60.0   47.0    38.0      0.0   \n",
      "Iraq                     84.0    68.0  292.9    0.0    44.3    114.0   \n",
      "United Arab Emirates      0.0     0.0    0.0    0.0     0.0      0.0   \n",
      "Iran                      0.0     0.0   60.0    0.0    38.0     19.0   \n",
      "Norway                  504.0    68.0    0.0    0.0   136.8      0.0   \n",
      "Brazil                    0.0     0.0    0.0   47.0     0.0      0.0   \n",
      "Kuwait                    0.0     0.0   60.0    0.0     0.0     19.0   \n",
      "Kazakhstan                0.0     0.0    0.0    0.0     0.0      0.0   \n",
      "Mexico                    0.0     0.0    0.0    0.0     0.0      0.0   \n",
      "Algeria                   0.0    68.0  127.1  282.0     0.0      0.0   \n",
      "Qatar                     0.0     0.0    0.0    0.0     0.0     19.0   \n",
      "Nigeria                   0.0     0.0    0.0   47.0     0.0      0.0   \n",
      "\n",
      "                      Netherlands  Belgium  Greece  Czech Republic  ...  \\\n",
      "United States                18.0     11.5     0.0             0.0  ...   \n",
      "Saudi Arabia                  0.0      0.0    11.0             0.0  ...   \n",
      "Russia                        0.0      0.0     0.0            11.0  ...   \n",
      "Canada                       18.0     11.5     0.0            11.0  ...   \n",
      "Iraq                         18.0     11.5    66.0            11.0  ...   \n",
      "United Arab Emirates          0.0      0.0     0.0             0.0  ...   \n",
      "Iran                          0.0      0.0    11.0            11.0  ...   \n",
      "Norway                      108.0     69.0     0.0            66.0  ...   \n",
      "Brazil                        0.0      0.0     0.0             0.0  ...   \n",
      "Kuwait                        0.0      0.0    11.0             0.0  ...   \n",
      "Kazakhstan                    0.0      0.0     0.0             0.0  ...   \n",
      "Mexico                        0.0      0.0     0.0             0.0  ...   \n",
      "Algeria                      18.0     11.5     0.0             0.0  ...   \n",
      "Qatar                         0.0      0.0    11.0             0.0  ...   \n",
      "Nigeria                       0.0      0.0     0.0             0.0  ...   \n",
      "\n",
      "                      Slovakia  Ireland  Croatia  Lithuania  Slovenia  Latvia  \\\n",
      "United States              0.0      4.9      0.0        0.0       0.0     0.0   \n",
      "Saudi Arabia               0.0      0.0      0.0        0.0       0.0     0.0   \n",
      "Russia                     5.5      0.0      0.0       16.8       0.0    11.4   \n",
      "Canada                     5.5     29.4      4.0        0.0       2.1     0.0   \n",
      "Iraq                      33.0      0.0     24.0        2.8      12.6     1.9   \n",
      "United Arab Emirates       0.0      0.0      0.0        0.0       0.0     0.0   \n",
      "Iran                       5.5      0.0      4.0        2.8       2.1     1.9   \n",
      "Norway                     5.5      4.9      4.0        2.8       2.1     1.9   \n",
      "Brazil                     0.0      0.0      0.0        0.0       0.0     0.0   \n",
      "Kuwait                     0.0      0.0      4.0        0.0       0.0     0.0   \n",
      "Kazakhstan                 0.0      0.0      0.0        2.8       0.0     1.9   \n",
      "Mexico                     0.0      4.9      0.0        0.0       0.0     0.0   \n",
      "Algeria                    0.0      4.9      0.0        0.0       2.1     0.0   \n",
      "Qatar                      0.0      0.0      0.0        0.0       0.0     0.0   \n",
      "Nigeria                    0.0      0.0      0.0        0.0       0.0     0.0   \n",
      "\n",
      "                      Estonia  Cyprus  Luxembourg  Malta  \n",
      "United States             0.0     0.0         0.6    0.0  \n",
      "Saudi Arabia              0.0     1.0         0.0    0.0  \n",
      "Russia                    7.8     0.0         0.0    0.0  \n",
      "Canada                    1.3     0.0         3.6    0.0  \n",
      "Iraq                      1.3     6.0         0.6    3.0  \n",
      "United Arab Emirates      0.0     0.0         0.0    0.0  \n",
      "Iran                      0.0     1.0         0.0    0.5  \n",
      "Norway                    1.3     0.0         0.6    0.0  \n",
      "Brazil                    0.0     0.0         0.0    0.0  \n",
      "Kuwait                    0.0     1.0         0.0    0.5  \n",
      "Kazakhstan                1.3     0.0         0.0    0.0  \n",
      "Mexico                    0.0     0.0         0.0    0.0  \n",
      "Algeria                   0.0     0.0         0.6    0.5  \n",
      "Qatar                     0.0     1.0         0.0    0.0  \n",
      "Nigeria                   0.0     0.0         0.0    0.5  \n",
      "\n",
      "[15 rows x 27 columns]\n",
      "1.0\n",
      "102545.99800000005\n"
     ]
    }
   ],
   "source": [
    "Solver = SolverFactory('glpk')\n",
    "Results = Solver.solve(model)\n",
    "\n",
    "#display(model)\n",
    "\n",
    "\n",
    "import pandas as pd\n",
    "\n",
    "table_results = pd.DataFrame()\n",
    "\n",
    "for i in model.i:\n",
    "    for j in model.j:\n",
    "        table_results.loc[i,j] = model.x2[i,j]()\n",
    "\n",
    "\n",
    "print(table_results)\n",
    "\n",
    "print(model.y())\n",
    "print(model.objective())\n"
   ]
  },
  {
   "cell_type": "markdown",
   "id": "b8d04248",
   "metadata": {
    "colab": {
     "background_save": true
    },
    "id": "XAVppjHH0Fdl"
   },
   "source": [
    "### Optimal solution\n",
    "\n",
    "In our case the new transatlantic pipeline gets built so lots of oil is now flowing from transatlantic states, in test we saw if we increase the cost of the pipeline only by 1000 units the pipeline would not be built and the optimal solution would not involve any transatlantic oil. Furthermore the diversification constraint is not letting countries rely solely on one country's oil production, still we can see the eu-countries purchasing the minimal amount (10%) necessary from not perfectly optimal suppliers."
   ]
  }
 ],
 "metadata": {
  "colab": {
   "provenance": []
  },
  "kernelspec": {
   "display_name": "Python 3 (ipykernel)",
   "language": "python",
   "name": "python3"
  },
  "language_info": {
   "codemirror_mode": {
    "name": "ipython",
    "version": 3
   },
   "file_extension": ".py",
   "mimetype": "text/x-python",
   "name": "python",
   "nbconvert_exporter": "python",
   "pygments_lexer": "ipython3",
   "version": "3.9.18"
  }
 },
 "nbformat": 4,
 "nbformat_minor": 5
}
