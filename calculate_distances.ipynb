{
 "cells": [
  {
   "cell_type": "code",
   "execution_count": 1,
   "id": "612b5549",
   "metadata": {},
   "outputs": [],
   "source": [
    "distances = {}"
   ]
  },
  {
   "cell_type": "code",
   "execution_count": 2,
   "id": "9c77cce1",
   "metadata": {},
   "outputs": [],
   "source": [
    "import requests\n",
    "\n",
    "\n",
    "# Define the origins (oil-producing countries' capitals) and destinations (EU countries' capitals)\n",
    "origins = [\n",
    "    \"Washington, D.C.\",\n",
    "    \"Riyadh\",\n",
    "    \"Moscow\",\n",
    "    \"Ottawa\",\n",
    "    \"Baghdad\",\n",
    "    \"Abu Dhabi\",\n",
    "    \"Tehran\",\n",
    "    \"Oslo\",\n",
    "    \"Brasília\",\n",
    "    \"Kuwait City\",\n",
    "    \"Nur-Sultan\",\n",
    "    \"Mexico City\",\n",
    "    \"Algiers\",\n",
    "    \"Doha\",\n",
    "    \"Abuja\"\n",
    "]  # Example oil-producing capitals\n",
    "destinations = [\n",
    "    \"Berlin\",\n",
    "    \"Paris\",\n",
    "    \"Rome\",\n",
    "    \"Madrid\",\n",
    "    \"Warsaw\",\n",
    "    \"Bucharest\",\n",
    "    \"Amsterdam\",\n",
    "    \"Brussels\",\n",
    "    \"Athens\",\n",
    "    \"Prague\",\n",
    "    \"Stockholm\",\n",
    "    \"Lisbon\",\n",
    "    \"Budapest\",\n",
    "    \"Vienna\",\n",
    "    \"Sofia\",\n",
    "    \"Copenhagen\",\n",
    "    \"Helsinki\",\n",
    "    \"Bratislava\",\n",
    "    \"Dublin\",\n",
    "    \"Zagreb\",\n",
    "    \"Vilnius\",\n",
    "    \"Ljubljana\",\n",
    "    \"Riga\",\n",
    "    \"Tallinn\",\n",
    "    \"Nicosia\",\n",
    "    \"Luxembourg\",\n",
    "    \"Valletta\"\n",
    "]  # Example EU capitals\n"
   ]
  },
  {
   "cell_type": "code",
   "execution_count": 3,
   "id": "42d19eb5",
   "metadata": {},
   "outputs": [
    {
     "name": "stdout",
     "output_type": "stream",
     "text": [
      "['Washington, D.C.', 'Riyadh', 'Moscow', 'Ottawa', 'Baghdad', 'Abu Dhabi', 'Tehran', 'Oslo', 'Brasília', 'Kuwait City', 'Nur-Sultan', 'Mexico City', 'Algiers', 'Doha', 'Abuja', 'Berlin', 'Paris', 'Rome', 'Madrid', 'Warsaw', 'Bucharest', 'Amsterdam', 'Brussels', 'Athens', 'Prague', 'Stockholm', 'Lisbon', 'Budapest', 'Vienna', 'Sofia', 'Copenhagen', 'Helsinki', 'Bratislava', 'Dublin', 'Zagreb', 'Vilnius', 'Ljubljana', 'Riga', 'Tallinn', 'Nicosia', 'Luxembourg', 'Valletta']\n"
     ]
    }
   ],
   "source": [
    "cities = origins + destinations\n",
    "print(cities)"
   ]
  },
  {
   "cell_type": "code",
   "execution_count": 4,
   "id": "d0f1d066",
   "metadata": {},
   "outputs": [
    {
     "name": "stdout",
     "output_type": "stream",
     "text": [
      "Distance between Berlin and Paris: 877.46 km\n"
     ]
    }
   ],
   "source": [
    "import math\n",
    "\n",
    "def haversine_distance(lat1, lon1, lat2, lon2):\n",
    "    # Radius of the Earth in kilometers\n",
    "    R = 6371\n",
    "\n",
    "    # Convert latitude and longitude from degrees to radians\n",
    "    lat1, lon1, lat2, lon2 = map(math.radians, [lat1, lon1, lat2, lon2])\n",
    "\n",
    "    # Haversine formula\n",
    "    dlat = lat2 - lat1\n",
    "    dlon = lon2 - lon1\n",
    "    a = math.sin(dlat/2)**2 + math.cos(lat1) * math.cos(lat2) * math.sin(dlon/2)**2\n",
    "    c = 2 * math.atan2(math.sqrt(a), math.sqrt(1-a))\n",
    "    distance = R * c\n",
    "\n",
    "    return distance\n",
    "\n",
    "# Example coordinates for Berlin and Paris\n",
    "berlin_lat = 52.5200\n",
    "berlin_lon = 13.4050\n",
    "paris_lat = 48.8566\n",
    "paris_lon = 2.3522\n",
    "\n",
    "distance = haversine_distance(berlin_lat, berlin_lon, paris_lat, paris_lon)\n",
    "print(f\"Distance between Berlin and Paris: {distance:.2f} km\")"
   ]
  },
  {
   "cell_type": "code",
   "execution_count": 5,
   "id": "f37b0310",
   "metadata": {},
   "outputs": [
    {
     "name": "stdout",
     "output_type": "stream",
     "text": [
      "Washington, D.C.: Latitude 38.89037, Longitude -77.03196\n",
      "Riyadh: Latitude 24.68204, Longitude 46.68725\n",
      "Moscow: Latitude 55.75696, Longitude 37.61502\n",
      "Ottawa: Latitude 45.42178, Longitude -75.69116\n",
      "Baghdad: Latitude 33.3421, Longitude 44.39307\n",
      "Abu Dhabi: Latitude 24.46918, Longitude 54.37173\n",
      "Tehran: Latitude 35.68877, Longitude 51.41503\n",
      "Oslo: Latitude 59.91234, Longitude 10.75\n",
      "Brasília: Latitude -15.7783, Longitude -47.9291\n",
      "Kuwait City: Latitude 29.37332, Longitude 47.97162\n",
      "Nur-Sultan: Latitude 51.12771, Longitude 71.4283\n",
      "Mexico City: Latitude 19.43195, Longitude -99.13315\n",
      "Algiers: Latitude 36.77156, Longitude 3.0593\n",
      "Doha: Latitude 25.29424, Longitude 51.51967\n",
      "Abuja: Latitude 9.06344, Longitude 7.46228\n",
      "Berlin: Latitude 52.51604, Longitude 13.37691\n",
      "Paris: Latitude 48.85717, Longitude 2.3414\n",
      "Rome: Latitude 41.90325, Longitude 12.49563\n",
      "Madrid: Latitude 40.41955, Longitude -3.69196\n",
      "Warsaw: Latitude 52.2356, Longitude 21.01037\n",
      "Bucharest: Latitude 44.43429, Longitude 26.10298\n",
      "Amsterdam: Latitude 52.36994, Longitude 4.90788\n",
      "Brussels: Latitude 50.84439, Longitude 4.35609\n",
      "Athens: Latitude 37.97614, Longitude 23.7364\n",
      "Prague: Latitude 50.07914, Longitude 14.43299\n",
      "Stockholm: Latitude 59.33257, Longitude 18.06683\n",
      "Lisbon: Latitude 38.72633, Longitude -9.14951\n",
      "Budapest: Latitude 47.49972, Longitude 19.05508\n",
      "Vienna: Latitude 48.20263, Longitude 16.36842\n",
      "Sofia: Latitude 42.69718, Longitude 23.32433\n",
      "Copenhagen: Latitude 55.67567, Longitude 12.56756\n",
      "Helsinki: Latitude 60.17116, Longitude 24.93265\n",
      "Bratislava: Latitude 48.14924, Longitude 17.10699\n",
      "Dublin: Latitude 53.34807, Longitude -6.24827\n",
      "Zagreb: Latitude 45.80724, Longitude 15.96757\n",
      "Vilnius: Latitude 54.69062, Longitude 25.2698\n",
      "Ljubljana: Latitude 46.05062, Longitude 14.50282\n",
      "Riga: Latitude 56.94598, Longitude 24.11487\n",
      "Tallinn: Latitude 59.43642, Longitude 24.75258\n",
      "Nicosia: Latitude 35.17197, Longitude 33.36489\n",
      "Luxembourg: Latitude 49.6096, Longitude 6.12966\n",
      "Valletta: Latitude 35.89353, Longitude 14.5118\n"
     ]
    }
   ],
   "source": [
    "import requests\n",
    "\n",
    "\n",
    "# Create a dictionary to store the coordinates\n",
    "coordinates = {}\n",
    "\n",
    "# Define the base URL for the MapQuest Geocoding API\n",
    "base_url = 'https://www.mapquestapi.com/geocoding/v1/address'\n",
    "\n",
    "\n",
    "\n",
    "# Loop through the first list of cities\n",
    "for city in cities:\n",
    "    # Set the parameters for the API request\n",
    "    params = {\n",
    "        'key': \"ygXxjCDgm0yOtX5RshrxgjfdTqOAibCC\",\n",
    "        'inFormat': 'kvp',\n",
    "        'outFormat': 'json',\n",
    "        'location': city,\n",
    "        'thumbMaps': False\n",
    "    }\n",
    "\n",
    "    # Make the API request\n",
    "    response = requests.get(base_url, params=params)\n",
    "\n",
    "    # Parse the JSON response\n",
    "    data = response.json()\n",
    "\n",
    "    # Extract the coordinates\n",
    "    lat = data['results'][0]['locations'][0]['latLng']['lat']\n",
    "    lng = data['results'][0]['locations'][0]['latLng']['lng']\n",
    "\n",
    "    # Store the coordinates in the dictionary\n",
    "    coordinates[city] = (lat, lng)\n",
    "\n",
    "# Loop through the second list of cities\n",
    "coordinates[city] = (lat, lng)\n",
    "\n",
    "# Print the coordinates\n",
    "for city, (lat, lng) in coordinates.items():\n",
    "    print(f\"{city}: Latitude {lat}, Longitude {lng}\")\n"
   ]
  },
  {
   "cell_type": "code",
   "execution_count": 6,
   "id": "1fc948c9",
   "metadata": {},
   "outputs": [],
   "source": [
    "import numpy as np\n",
    "\n",
    "dmatrix = np.zeros((len(origins), len(destinations)))\n"
   ]
  },
  {
   "cell_type": "code",
   "execution_count": 7,
   "id": "76c49dca",
   "metadata": {},
   "outputs": [
    {
     "name": "stdout",
     "output_type": "stream",
     "text": [
      "[[ 6709.  6164.  7217.  6089.  7178.  7977.  6191.  6217.  8254.  6899.\n",
      "   6636.  5735.  7336.  7124.  7912.  6511.  6930.  7174.  5443.  7233.\n",
      "   7270.  7122.  7075.  6963.  9113.  6386.  7721.]\n",
      " [ 4168.  4681.  3673.  4960.  3751.  2877.  4658.  4624.  2621.  3955.\n",
      "   4448.  5421.  3513.  3722.  2928.  4418.  4286.  3674.  5398.  3607.\n",
      "   3773.  3719.  4017.  4223.  1731.  4454.  3312.]\n",
      " [ 1610.  2486.  2375.  3439.  1150.  1498.  2146.  2252.  2231.  1667.\n",
      "   1227.  3906.  1568.  1670.  1777.  1560.   892.  1631.  2793.  1868.\n",
      "    790.  1932.   840.   866.  2311.  2207.  2815.]\n",
      " [ 6126.  5647.  6728.  5690.  6576.  7411.  5631.  5674.  7745.  6333.\n",
      "   5993.  5384.  6774.  6566.  7370.  5905.  6270.  6614.  4899.  6697.\n",
      "   6641.  6589.  6435.  6307.  8574.  5850.  7276.]\n",
      " [ 3261.  3859.  2946.  4294.  2812.  1998.  3781.  3768.  1931.  3071.\n",
      "   3477.  4783.  2640.  2854.  2110.  3483.  3302.  2802.  4534.  2781.\n",
      "   2803.  2897.  3042.  3241.  1033.  3610.  2738.]\n",
      " [ 4635.  5240.  4297.  5623.  4173.  3381.  5162.  5151.  3256.  4453.\n",
      "   4790.  6099.  4023.  4237.  3486.  4843.  4569.  4185.  5916.  4161.\n",
      "   4124.  4276.  4348.  4517.  2342.  4993.  4004.]\n",
      " [ 3507.  4211.  3412.  4775.  3013.  2350.  4064.  4081.  2467.  3364.\n",
      "   3560.  5275.  2965.  3178.  2529.  3671.  3314.  3124.  4818.  3159.\n",
      "   2910.  3275.  3117.  3266.  1634.  3941.  3308.]\n",
      " [  838.  1341.  2006.  2387.  1062.  2003.   912.  1085.  2606.  1117.\n",
      "    416.  2738.  1481.  1351.  2096.   483.   786.  1370.  1264.  1605.\n",
      "   1044.  1561.   843.   786.  3197.  1182.  2684.]\n",
      " [ 9590.  8725.  8906.  7739. 10027. 10016.  9115.  8978.  9552.  9510.\n",
      "  10225.  7280.  9665.  9526.  9734.  9735. 10612.  9571.  8653.  9368.\n",
      "  10397.  9283. 10428. 10571. 10246.  8990.  8716.]\n",
      " [ 3817.  4405.  3464.  4798.  3368.  2551.  4336.  4320.  2428.  3626.\n",
      "   4022.  5278.  3193.  3407.  2650.  4039.  3833.  3355.  5088.  3325.\n",
      "   3349.  3441.  3585.  3774.  1514.  4160.  3199.]\n",
      " [ 3883.  4759.  4497.  5685.  3407.  3410.  4415.  4526.  3969.  3921.\n",
      "   3403.  6165.  3736.  3882.  3701.  3815.  3012.  3836.  5026.  4032.\n",
      "   3063.  4118.  3090.  3025.  3505.  4478.  4756.]\n",
      " [ 9725.  9195. 10240.  9063. 10179. 11002.  9216.  9247. 11282.  9923.\n",
      "   9584.  8670. 10362. 10151. 10943.  9509.  9842. 10201.  8472. 10264.\n",
      "  10240. 10153. 10027.  9885. 12144.  9417. 10718.]\n",
      " [ 1927.  1345.   991.   712.  2219.  2114.  1740.  1568.  1828.  1737.\n",
      "   2730.  1094.  1772.  1670.  1848.  2220.  3029.  1705.  1978.  1470.\n",
      "   2611.  1402.  2731.  2961.  2721.  1448.  1029.]\n",
      " [ 4390.  4971.  4012.  5332.  3939.  3123.  4908.  4891.  2967.  4199.\n",
      "   4582.  5805.  3765.  3978.  3214.  4610.  4380.  3927.  5660.  3892.\n",
      "   3911.  4007.  4142.  4324.  2055.  4729.  3707.]\n",
      " [ 4861.  4450.  3684.  3656.  4955.  4323.  4821.  4654.  3604.  4606.\n",
      "   5660.  3691.  4411.  4431.  4046.  5202.  5866.  4439.  5075.  4165.\n",
      "   5312.  4167.  5515.  5786.  3917.  4510.  3067.]]\n"
     ]
    }
   ],
   "source": [
    "for i in range(len(origins)):\n",
    "    for j in range(len(destinations)):\n",
    "        lat1, lon1 = coordinates[origins[i]]\n",
    "        lat2, lon2 = coordinates[destinations[j]]\n",
    "        dmatrix[i, j] = int(haversine_distance(lat1, lon1, lat2, lon2))\n",
    "        \n",
    "print(dmatrix)"
   ]
  },
  {
   "cell_type": "code",
   "execution_count": 60,
   "id": "a0fd5d05",
   "metadata": {},
   "outputs": [
    {
     "name": "stdout",
     "output_type": "stream",
     "text": [
      "distances_matrix.csv has been created.\n"
     ]
    }
   ],
   "source": [
    "import csv\n",
    "\n",
    "with open('distances_matrix.csv', 'w', newline='') as csvfile:\n",
    "    writer = csv.writer(csvfile)\n",
    "    \n",
    "    # Write the header row with city names\n",
    "    writer.writerow([''] + destinations)\n",
    "    \n",
    "    # Write the distances matrix row by row\n",
    "    for i in range(len(origins)):\n",
    "        writer.writerow([cities[i]] + dmatrix[i].tolist())\n",
    "\n",
    "print('distances_matrix.csv has been created.')"
   ]
  }
 ],
 "metadata": {
  "kernelspec": {
   "display_name": "Python 3 (ipykernel)",
   "language": "python",
   "name": "python3"
  },
  "language_info": {
   "codemirror_mode": {
    "name": "ipython",
    "version": 3
   },
   "file_extension": ".py",
   "mimetype": "text/x-python",
   "name": "python",
   "nbconvert_exporter": "python",
   "pygments_lexer": "ipython3",
   "version": "3.9.18"
  }
 },
 "nbformat": 4,
 "nbformat_minor": 5
}
